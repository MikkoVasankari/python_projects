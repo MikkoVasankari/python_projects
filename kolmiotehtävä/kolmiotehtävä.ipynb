{
 "cells": [
  {
   "cell_type": "code",
   "execution_count": 1,
   "metadata": {},
   "outputs": [],
   "source": [
    "#Tämä toimii \n",
    "\n",
    "import random\n",
    "import matplotlib.pyplot as plt\n",
    "\n",
    "\n",
    "def toimii():\n",
    "    \n",
    "    a = [10,10]\n",
    "    b = [100,10]\n",
    "    c = [50,100]\n",
    "\n",
    "    plt.plot(a[0] , a[1] , 'ro')\n",
    "    plt.plot(b[0] , b[1] , 'ro')\n",
    "    plt.plot(c[0] , c[1] , 'ro')\n",
    "\n",
    "    plt.axis([0, 120, 0, 120])\n",
    "\n",
    "    arvottuX = random.randint(1,100)\n",
    "    arvottuY = random.randint(1,100)\n",
    "\n",
    "    coor = [arvottuX, arvottuY]\n",
    "    \n",
    "    def onko_kolmiossa(a,b,c,coor):\n",
    "        a1=a[0]\n",
    "        a2=a[1]\n",
    "        b1=b[0]\n",
    "        b2=b[1]\n",
    "        c1=c[0]\n",
    "        c2=c[1]\n",
    "\n",
    "        x=coor[0]\n",
    "        y=coor[1]\n",
    "    \n",
    "        if (a1==x and a2==y) or (b1==x and b2==y) or (c1==x and c2==y):\n",
    "            print(\"kulmapiste\")\n",
    "            return False\n",
    "    \n",
    "        d1 = (b1-a1)*(y-a2)-(b2-a2)*(x-a1)\n",
    "        d2 = (c1-b1)*(y-b2)-(c2-b2)*(x-b1)\n",
    "        d3 = (a1-c1)*(y-c2)-(a2-c2)*(x-c1)\n",
    "        if (d1<0 and d2<0 and d3<0) or (d1>0 and d2>0 and d3>0):\n",
    "            return True\n",
    "        else:\n",
    "            return False\n",
    "            \n",
    "    if onko_kolmiossa(a,b,c,coor) == True:\n",
    "        plt.plot(arvottuX,arvottuY,'ko')\n",
    "\n",
    "        # print(coor)\n",
    "\n",
    "        # Kulman arvonta\n",
    "        kulma = random.randint(1,3)\n",
    "\n",
    "        def mika_kulma(kulma):\n",
    "            if kulma == 1:\n",
    "                return 1\n",
    "            if kulma == 2:\n",
    "                return 2\n",
    "            if kulma == 3:\n",
    "                return 3\n",
    "\n",
    "        arvottu = mika_kulma(kulma)\n",
    "        # print(arvottu)\n",
    "\n",
    "        # Arvotun pisteen ja arvotun kulman puoliväli\n",
    "        def puolivali(arvottu):\n",
    "\n",
    "            if arvottu == 1:\n",
    "                x = (coor[0] + a[0])/2\n",
    "                y = (coor[1] + a[1])/2\n",
    "\n",
    "                uusipiste = [x,y]\n",
    "                if onko_kolmiossa(a,b,c,uusipiste) == True:\n",
    "                    plt.plot(uusipiste[0],uusipiste[1],'ko')\n",
    "                    return uusipiste\n",
    "        \n",
    "            if arvottu == 2:\n",
    "                x = (coor[0] + b[0])/2\n",
    "                y = (coor[1] + b[1])/2\n",
    "\n",
    "                uusipiste = [x,y]\n",
    "                if onko_kolmiossa(a,b,c,uusipiste) == True:\n",
    "                    plt.plot(uusipiste[0],uusipiste[1],'ko')\n",
    "                    return uusipiste\n",
    "\n",
    "            if arvottu == 3:\n",
    "                x = (coor[0] + c[0])/2\n",
    "                y = (coor[1] + c[1])/2\n",
    "\n",
    "                uusipiste = [x,y]\n",
    "                if onko_kolmiossa(a,b,c,uusipiste) == True:\n",
    "                    plt.plot(uusipiste[0],uusipiste[1],'ko')\n",
    "                    return uusipiste    \n",
    "\n",
    "        # print(puolivali(arvottu))\n",
    "\n"
   ]
  },
  {
   "cell_type": "code",
   "execution_count": 2,
   "metadata": {},
   "outputs": [
    {
     "data": {
      "image/png": "[encoded data removed]",
      "text/plain": [
       "<Figure size 432x288 with 1 Axes>"
      ]
     },
     "metadata": {
      "needs_background": "light"
     },
     "output_type": "display_data"
    }
   ],
   "source": [
    "toistojenmaara = 0\n",
    "\n",
    "while toistojenmaara < 200:\n",
    "    toistojenmaara += 1\n",
    "    toimii()\n",
    "       "
   ]
  },
  {
   "cell_type": "code",
   "execution_count": null,
   "metadata": {},
   "outputs": [],
   "source": []
  }
 ],
 "metadata": {
  "interpreter": {
   "hash": "887303668c15486f073012ee31407dd2777fbc0afcdf44ef5efb0ddd8111de03"
  },
  "kernelspec": {
   "display_name": "Python 3.9.6 64-bit",
   "name": "python3"
  },
  "language_info": {
   "codemirror_mode": {
    "name": "ipython",
    "version": 3
   },
   "file_extension": ".py",
   "mimetype": "text/x-python",
   "name": "python",
   "nbconvert_exporter": "python",
   "pygments_lexer": "ipython3",
   "version": "3.9.7"
  },
  "orig_nbformat": 2
 },
 "nbformat": 4,
 "nbformat_minor": 2
}
